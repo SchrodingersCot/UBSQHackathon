{
 "cells": [
  {
   "cell_type": "code",
   "execution_count": null,
   "metadata": {},
   "outputs": [],
   "source": [
    "from alphien.data import * # to call function directly by its name.\n",
    "import numpy as np\n",
    "import pandas as pd\n",
    "from alphien import payout"
   ]
  },
  {
   "cell_type": "code",
   "execution_count": null,
   "metadata": {},
   "outputs": [],
   "source": [
    "from alphien.portfolio import * # to call Portfolio directly\n",
    "port = Portfolio(getTickersFXCarryStrategy().ticker.tolist())\n",
    "port.addFeatures(tickers = port.assets, fields = [\"bb_live\", \"carry12\"])\n",
    "port.payout(payout)\n",
    "port.evaluate(zoom='2007::2016')\n",
    "port.backtest()"
   ]
  },
  {
   "cell_type": "code",
   "execution_count": null,
   "metadata": {},
   "outputs": [],
   "source": [
    "port.testFXCarrySubmission()"
   ]
  }
 ],
 "metadata": {
  "kernelspec": {
   "display_name": "Python 3",
   "language": "python",
   "name": "python3"
  },
  "language_info": {
   "codemirror_mode": {
    "name": "ipython",
    "version": 3
   },
   "file_extension": ".py",
   "mimetype": "text/x-python",
   "name": "python",
   "nbconvert_exporter": "python",
   "pygments_lexer": "ipython3",
   "version": "3.8.3"
  }
 },
 "nbformat": 4,
 "nbformat_minor": 4
}
